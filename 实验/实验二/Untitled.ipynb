{
 "cells": [
  {
   "cell_type": "markdown",
   "id": "311a7c65",
   "metadata": {},
   "source": [
    "1 .第一题"
   ]
  },
  {
   "cell_type": "code",
   "execution_count": 4,
   "id": "42e4cc6e",
   "metadata": {},
   "outputs": [],
   "source": [
    "import math\n",
    "def nearest_sq(n):\n",
    "    if math.isqrt(n) ** 2 == n:\n",
    "        return n\n",
    "    \n",
    "    lower_sq = math.isqrt(n) ** 2\n",
    "    upper_sq = (math.isqrt(n) + 1) ** 2\n",
    "    \n",
    "    if n - lower_sq < upper_sq - n:\n",
    "        return lower_sq\n",
    "    else:\n",
    "        return upper_sq"
   ]
  },
  {
   "cell_type": "markdown",
   "id": "c2a251d5",
   "metadata": {},
   "source": [
    "2.第二题"
   ]
  },
  {
   "cell_type": "code",
   "execution_count": 5,
   "id": "831537c1",
   "metadata": {},
   "outputs": [],
   "source": [
    "def bouncing_ball(h, bounce, window):\n",
    "    # your code\n",
    "    if h <= 0 or bounce <= 0 or bounce >= 1 or window >= h:\n",
    "        return -1\n",
    "    \n",
    "    count = 0\n",
    "    while h > window:\n",
    "        count += 1\n",
    "        h *= bounce\n",
    "        if h > window:\n",
    "            count += 1\n",
    "    return count"
   ]
  },
  {
   "cell_type": "markdown",
   "id": "e69ef5d2",
   "metadata": {},
   "source": [
    "3 .第三题"
   ]
  },
  {
   "cell_type": "code",
   "execution_count": 6,
   "id": "65b6acdd",
   "metadata": {},
   "outputs": [],
   "source": [
    "def get_count(sentence):\n",
    "    vowels = 'aeiou'\n",
    "    count = 0\n",
    "    for letter in sentence:\n",
    "        if letter in vowels:\n",
    "            count += 1\n",
    "    return count"
   ]
  },
  {
   "cell_type": "markdown",
   "id": "c2acb2c1",
   "metadata": {},
   "source": [
    "4.第四题"
   ]
  },
  {
   "cell_type": "code",
   "execution_count": 7,
   "id": "cd0ebed9",
   "metadata": {},
   "outputs": [],
   "source": [
    "def even_or_odd(number):\n",
    "    if number % 2 == 0:\n",
    "        return \"Even\"\n",
    "    else:\n",
    "        return \"Odd\""
   ]
  },
  {
   "cell_type": "markdown",
   "id": "c1f528d5",
   "metadata": {},
   "source": []
  },
  {
   "cell_type": "code",
   "execution_count": null,
   "id": "dcd95df0",
   "metadata": {},
   "outputs": [],
   "source": []
  }
 ],
 "metadata": {
  "kernelspec": {
   "display_name": "Python [conda env:root] *",
   "language": "python",
   "name": "conda-root-py"
  },
  "language_info": {
   "codemirror_mode": {
    "name": "ipython",
    "version": 3
   },
   "file_extension": ".py",
   "mimetype": "text/x-python",
   "name": "python",
   "nbconvert_exporter": "python",
   "pygments_lexer": "ipython3",
   "version": "3.9.13"
  },
  "toc": {
   "base_numbering": 1,
   "nav_menu": {},
   "number_sections": true,
   "sideBar": true,
   "skip_h1_title": false,
   "title_cell": "Table of Contents",
   "title_sidebar": "Contents",
   "toc_cell": false,
   "toc_position": {},
   "toc_section_display": true,
   "toc_window_display": true
  }
 },
 "nbformat": 4,
 "nbformat_minor": 5
}
