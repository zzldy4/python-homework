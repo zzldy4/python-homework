{
 "cells": [
  {
   "cell_type": "markdown",
   "id": "311a7c65",
   "metadata": {},
   "source": [
    "1 .第一题"
   ]
  },
  {
   "cell_type": "code",
   "execution_count": 1,
   "id": "42e4cc6e",
   "metadata": {},
   "outputs": [],
   "source": [
    "def naughty_or_nice(data):\n",
    "    naughty_count = 0\n",
    "    nice_count = 0\n",
    "\n",
    "    for month in data.values():\n",
    "        for value in month.values():\n",
    "            if value == 'Naughty':\n",
    "                naughty_count += 1\n",
    "            elif value == 'Nice':\n",
    "                nice_count += 1\n",
    "\n",
    "    if naughty_count > nice_count:\n",
    "        return \"Naughty!\"\n",
    "    elif naughty_count < nice_count:\n",
    "        return \"Nice!\"\n",
    "    else:\n",
    "        return \"Nice!\""
   ]
  },
  {
   "cell_type": "markdown",
   "id": "c2a251d5",
   "metadata": {},
   "source": [
    "2.第二题"
   ]
  },
  {
   "cell_type": "code",
   "execution_count": 2,
   "id": "831537c1",
   "metadata": {},
   "outputs": [],
   "source": [
    "from itertools import product\n",
    "def get_pins(observed):\n",
    "    next_num = {\n",
    "        \"1\" : [\"1\", \"2\", \"4\"],\n",
    "        \"2\" : [\"1\", \"2\", \"3\", \"5\"],\n",
    "        \"3\" : [\"2\", \"3\", \"6\"],\n",
    "        \"4\" : [\"1\", \"4\", \"5\", \"7\"],\n",
    "        \"5\" : [\"2\", \"4\", \"5\", \"6\", \"8\"],\n",
    "        \"6\" : [\"3\", \"5\", \"6\", \"9\"],\n",
    "        \"7\" : [\"4\", \"7\", \"8\"],\n",
    "        \"8\" : [\"5\", \"7\", \"8\", \"9\", \"0\"],\n",
    "        \"9\" : [\"6\", \"8\", \"9\"],\n",
    "        \"0\" : [\"8\", \"0\"]\n",
    "    }\n",
    "    answer = [next_num[num] for num in observed] \n",
    "    result = [''.join(key) for key in product(*answer)]\n",
    "    return result"
   ]
  },
  {
   "cell_type": "markdown",
   "id": "e69ef5d2",
   "metadata": {},
   "source": [
    "3 .第三题"
   ]
  },
  {
   "cell_type": "code",
   "execution_count": 3,
   "id": "65b6acdd",
   "metadata": {},
   "outputs": [],
   "source": [
    "def protein(rna):\n",
    "    result = ''\n",
    "    for i in range(0, len(rna), 3):\n",
    "        substring = rna[i:i+3]\n",
    "        if substring in PROTEIN_DICT:\n",
    "            if substring == 'UAA' or substring == 'UAG' or substring == 'UGA':\n",
    "                # 遇到 # Stop codon 停止输出\n",
    "                break\n",
    "            value = PROTEIN_DICT.get(substring)\n",
    "            result += value\n",
    "    return (result)"
   ]
  },
  {
   "cell_type": "markdown",
   "id": "c2acb2c1",
   "metadata": {},
   "source": [
    "4.第四题"
   ]
  },
  {
   "cell_type": "code",
   "execution_count": 4,
   "id": "cd0ebed9",
   "metadata": {},
   "outputs": [],
   "source": [
    "def fillable(stock, merch, n):\n",
    "    if merch in stock.keys():\n",
    "        if n<= stock[merch]:\n",
    "            return True\n",
    "    return False"
   ]
  },
  {
   "cell_type": "markdown",
   "id": "c1f528d5",
   "metadata": {},
   "source": [
    "5.第五题"
   ]
  },
  {
   "cell_type": "code",
   "execution_count": 5,
   "id": "dcd95df0",
   "metadata": {},
   "outputs": [],
   "source": [
    "def decode_bits(bits):\n",
    "    bits = bits.strip(\"0\")\n",
    "    unit = 0\n",
    "    for bit in bits:\n",
    "        if bit != \"0\":\n",
    "            unit += 1\n",
    "        else:\n",
    "            break\n",
    " #unit now might be 1 unit or 3 units\n",
    "    count = 1\n",
    "    for i in range(1,len(bits)):\n",
    "        if bits[i] == bits[i-1]:\n",
    "            count += 1\n",
    "        else:\n",
    "            if count < unit:\n",
    "                unit = count\n",
    "                count = 1\n",
    "            else:\n",
    "                count = 1\n",
    "    morse_code = \"\"\n",
    "    \n",
    "    words = bits.split(\"0\"*7*unit)#单词间的暂停 \n",
    "    for word in words:\n",
    "        characters = word.split(\"0\"*3*unit)#单词内字符之间的暂停\n",
    "        for character in characters:\n",
    "            signs = character.split(\"0\"*unit)#字符内点和划之间的暂停\n",
    "            for sign in signs:\n",
    "                if sign == \"1\"*3*unit:\n",
    "                    morse_code += \"-\"\n",
    "                else:\n",
    "                    morse_code += \".\"\n",
    "            morse_code += \" \"\n",
    "        morse_code += \"   \"\n",
    "    return morse_code\n",
    "def decode_morse(morse_code):\n",
    "    morse_code.strip()\n",
    "    MORSE_CODE = {\n",
    "        '.-': 'A', '-...': 'B', '-.-.': 'C', '-..': 'D', '.': 'E', '..-.': 'F', '--.': 'G', '....': 'H',\n",
    "        '..': 'I', '.---': 'J', '-.-': 'K', '.-..': 'L', '--': 'M', '-.': 'N', '---': 'O', '.--.': 'P',\n",
    "        '--.-': 'Q', '.-.': 'R', '...': 'S', '-': 'T', '..-': 'U', '...-': 'V', '.--': 'W', '-..-': 'X',\n",
    "        '-.--': 'Y', '--..': 'Z', '-----': '0', '.----': '1', '..---': '2', '...--': '3', '....-': '4',\n",
    "        '.....': '5', '-....': '6', '--...': '7', '---..': '8', '----.': '9', '.-.-.-': '.', '--..--': ',',\n",
    "        '..--..': '?', '.----.': \"'\", '-.-.--': '!', '-..-.': '/', '-.--.': '(', '-.--.-': ')', '.-...': '&',\n",
    "        '---...': ':', '-.-.-.': ';', '-...-': '=', '.-.-.': '+', '-....-': '-', '..--.-': '_', '.-..-.': '\"',\n",
    "        '...-..-': '$', '.--.-.': '@', '': ' '\n",
    "    }\n",
    "    \n",
    "    result = \"\"\n",
    "    characters = morse_code.split(\" \")\n",
    "    for character in characters:\n",
    "        if character != \"\":\n",
    "            result += MORSE_CODE[character]\n",
    "        else:\n",
    "            result += \" \"\n",
    "            \n",
    "    return ' '.join(result.split())"
   ]
  },
  {
   "cell_type": "code",
   "execution_count": null,
   "id": "3077ec49",
   "metadata": {},
   "outputs": [],
   "source": []
  }
 ],
 "metadata": {
  "kernelspec": {
   "display_name": "Python [conda env:root] *",
   "language": "python",
   "name": "conda-root-py"
  },
  "language_info": {
   "codemirror_mode": {
    "name": "ipython",
    "version": 3
   },
   "file_extension": ".py",
   "mimetype": "text/x-python",
   "name": "python",
   "nbconvert_exporter": "python",
   "pygments_lexer": "ipython3",
   "version": "3.9.13"
  },
  "toc": {
   "base_numbering": 1,
   "nav_menu": {},
   "number_sections": true,
   "sideBar": true,
   "skip_h1_title": false,
   "title_cell": "Table of Contents",
   "title_sidebar": "Contents",
   "toc_cell": false,
   "toc_position": {},
   "toc_section_display": true,
   "toc_window_display": true
  }
 },
 "nbformat": 4,
 "nbformat_minor": 5
}
