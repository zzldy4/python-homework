{
 "cells": [
  {
   "cell_type": "markdown",
   "id": "311a7c65",
   "metadata": {},
   "source": [
    "1 .第一题"
   ]
  },
  {
   "cell_type": "code",
   "execution_count": 1,
   "id": "42e4cc6e",
   "metadata": {},
   "outputs": [],
   "source": [
    "def spin_words(sentence):\n",
    "    lists=sentence.split()\n",
    "    ret=[] \n",
    "    for list in lists:\n",
    "        if len(list)>=5:\n",
    "            ret.append(''.join(reversed(list)))\n",
    "        else:\n",
    "            ret.append(list)\n",
    "        ret.append(' ')\n",
    "    ret.pop()\n",
    "    return ''.join(ret)"
   ]
  },
  {
   "cell_type": "markdown",
   "id": "c2a251d5",
   "metadata": {},
   "source": [
    "2.第二题"
   ]
  },
  {
   "cell_type": "code",
   "execution_count": 2,
   "id": "831537c1",
   "metadata": {},
   "outputs": [],
   "source": [
    "def find_outlier(arr):  \n",
    "    a_numbers = []\n",
    "    b_numbers = []\n",
    "    for num in arr:\n",
    "        if num % 2 == 0:\n",
    "            b_numbers.append(num)  \n",
    "        else:  \n",
    "            a_numbers.append(num)\n",
    "    if len(a_numbers) == 1:  \n",
    "        return a_numbers[0]  \n",
    "    elif len(b_numbers) == 1:  \n",
    "        return b_numbers[0]  \n",
    "    else:  \n",
    "        return None"
   ]
  },
  {
   "cell_type": "markdown",
   "id": "e69ef5d2",
   "metadata": {},
   "source": [
    "3 .第三题"
   ]
  },
  {
   "cell_type": "code",
   "execution_count": 3,
   "id": "65b6acdd",
   "metadata": {},
   "outputs": [],
   "source": [
    "def is_pangram(s):\n",
    "    s=s.lower()\n",
    "    lists=['a','b','c','d','e','f','g','h','i','j','k','l',\n",
    "        'm','n','o','p','q','r','s','t','u','v','w','x','y','z']\n",
    "    for list in lists:\n",
    "        if list not in s:\n",
    "            return False\n",
    "    return True"
   ]
  },
  {
   "cell_type": "markdown",
   "id": "c2acb2c1",
   "metadata": {},
   "source": [
    "4.第四题"
   ]
  },
  {
   "cell_type": "code",
   "execution_count": 4,
   "id": "cd0ebed9",
   "metadata": {},
   "outputs": [],
   "source": [
    "def validate_sudoku(board):\n",
    "    for i in range(9):  \n",
    "        if sorted(board[i]) != list(range(1, 10)):  \n",
    "            return False\n",
    "        \n",
    "        column = [row[i] for row in board]\n",
    "        if sorted(column) != list(range(1, 10)):\n",
    "            return False\n",
    "\n",
    "    for block_row in range(0, 9, 3):  \n",
    "        for block_col in range(0, 9, 3):  \n",
    "            block = [board[x][y] for x in range(block_row, block_row + 3) for y in range(block_col, block_col + 3)]  \n",
    "            if sorted(block) != list(range(1, 10)):  \n",
    "                return False\n",
    "\n",
    "    return True"
   ]
  },
  {
   "cell_type": "markdown",
   "id": "c1f528d5",
   "metadata": {},
   "source": [
    "5.第五题"
   ]
  },
  {
   "cell_type": "code",
   "execution_count": 5,
   "id": "dcd95df0",
   "metadata": {},
   "outputs": [],
   "source": [
    "def triangle(row):\n",
    "    color = {'GG': 'G', 'BB': 'B', 'RR': 'R', 'BR': 'G', 'BG': 'R', 'GB': 'R', 'GR': 'B', 'RG': 'B', 'RB': 'G'}\n",
    "    \n",
    "    if len(row) == 1:\n",
    "        return row\n",
    "    \n",
    "    new_row = ''\n",
    "    for i in range(len(row) - 1):\n",
    "        new_row += color[row[i:i+2]]\n",
    "    \n",
    "    return triangle(new_row)"
   ]
  },
  {
   "cell_type": "code",
   "execution_count": null,
   "id": "28998f2f",
   "metadata": {},
   "outputs": [],
   "source": []
  }
 ],
 "metadata": {
  "kernelspec": {
   "display_name": "Python [conda env:root] *",
   "language": "python",
   "name": "conda-root-py"
  },
  "language_info": {
   "codemirror_mode": {
    "name": "ipython",
    "version": 3
   },
   "file_extension": ".py",
   "mimetype": "text/x-python",
   "name": "python",
   "nbconvert_exporter": "python",
   "pygments_lexer": "ipython3",
   "version": "3.9.13"
  },
  "toc": {
   "base_numbering": 1,
   "nav_menu": {},
   "number_sections": true,
   "sideBar": true,
   "skip_h1_title": false,
   "title_cell": "Table of Contents",
   "title_sidebar": "Contents",
   "toc_cell": false,
   "toc_position": {},
   "toc_section_display": true,
   "toc_window_display": true
  }
 },
 "nbformat": 4,
 "nbformat_minor": 5
}
