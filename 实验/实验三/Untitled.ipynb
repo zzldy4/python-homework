{
 "cells": [
  {
   "cell_type": "markdown",
   "id": "311a7c65",
   "metadata": {},
   "source": [
    "1 .第一题"
   ]
  },
  {
   "cell_type": "code",
   "execution_count": 5,
   "id": "42e4cc6e",
   "metadata": {},
   "outputs": [],
   "source": [
    "def solution(number):\n",
    "    if number < 0:\n",
    "        return 0\n",
    "    else :\n",
    "        cnt = 0\n",
    "        for num in range(1,number):\n",
    "            if num%3==0 or num%5==0:\n",
    "                cnt+=num\n",
    "    return cnt\n",
    "    pass"
   ]
  },
  {
   "cell_type": "markdown",
   "id": "c2a251d5",
   "metadata": {},
   "source": [
    "2.第二题"
   ]
  },
  {
   "cell_type": "code",
   "execution_count": 4,
   "id": "831537c1",
   "metadata": {},
   "outputs": [],
   "source": [
    "def duplicate_encode(word):\n",
    "    #your code here\n",
    "    word = word.lower()  # 忽略大小写\n",
    "    result = \"\"\n",
    "    for char in word:\n",
    "        if word.count(char) > 1:\n",
    "            result += \")\"\n",
    "        else:\n",
    "            result += \"(\"\n",
    "    return result"
   ]
  },
  {
   "cell_type": "markdown",
   "id": "e69ef5d2",
   "metadata": {},
   "source": [
    "3 .第三题"
   ]
  },
  {
   "cell_type": "code",
   "execution_count": 3,
   "id": "65b6acdd",
   "metadata": {},
   "outputs": [],
   "source": [
    "def valid_braces(string):\n",
    " list=[]\n",
    " str={')':'(','}':'{',']':'['}\n",
    " for s in string:\n",
    "     if s in str:\n",
    "         top_list=list.pop() if list else None \n",
    "         if str[s] != top_list:\n",
    "             return False            \n",
    "     else:\n",
    "         list.append(s)\n",
    "\n",
    " return len(list)==0   "
   ]
  },
  {
   "cell_type": "markdown",
   "id": "c2acb2c1",
   "metadata": {},
   "source": [
    "4.第四题"
   ]
  },
  {
   "cell_type": "code",
   "execution_count": 1,
   "id": "cd0ebed9",
   "metadata": {},
   "outputs": [],
   "source": [
    "def check_first_letter(triplets, first_letter):\n",
    "   for triplet in triplets:\n",
    "       if triplet and first_letter in triplet[1:]:\n",
    "           return False\n",
    "   return True\n",
    "       \n",
    "   \n",
    "def remove_first_letter(triplets, first_letter):\n",
    "   new_triplets=[]\n",
    "   for triplet in triplets:\n",
    "       if triplet and first_letter==triplet[0]:\n",
    "           triplet.remove(first_letter)\n",
    "       if len(triplet)>0:\n",
    "           new_triplets.append(triplet)\n",
    "   return new_triplets\n",
    "\n",
    "def recoverSecret(triplets):\n",
    "   letters = {letter for triplet in triplets for letter in triplet}\n",
    "   secret = []\n",
    "\n",
    "   while letters:\n",
    "       for letter in sorted(letters):\n",
    "           if check_first_letter(triplets, letter):\n",
    "               secret.append(letter)\n",
    "               letters.remove(letter)\n",
    "               triplets = remove_first_letter(triplets, letter)\n",
    "               break\n",
    "\n",
    "   return ''.join(secret)"
   ]
  },
  {
   "cell_type": "markdown",
   "id": "c1f528d5",
   "metadata": {},
   "source": [
    "5.第五题"
   ]
  },
  {
   "cell_type": "code",
   "execution_count": 2,
   "id": "dcd95df0",
   "metadata": {},
   "outputs": [],
   "source": [
    "def disemvowel(string):\n",
    " letters=[letter for letter in string_ if letter not in \"aoeiuAOEIU\"]\n",
    " string_=''.join(letters)\n",
    " return string_ "
   ]
  },
  {
   "cell_type": "code",
   "execution_count": null,
   "id": "561f0ffe",
   "metadata": {},
   "outputs": [],
   "source": []
  }
 ],
 "metadata": {
  "kernelspec": {
   "display_name": "Python [conda env:root] *",
   "language": "python",
   "name": "conda-root-py"
  },
  "language_info": {
   "codemirror_mode": {
    "name": "ipython",
    "version": 3
   },
   "file_extension": ".py",
   "mimetype": "text/x-python",
   "name": "python",
   "nbconvert_exporter": "python",
   "pygments_lexer": "ipython3",
   "version": "3.9.13"
  },
  "toc": {
   "base_numbering": 1,
   "nav_menu": {},
   "number_sections": true,
   "sideBar": true,
   "skip_h1_title": false,
   "title_cell": "Table of Contents",
   "title_sidebar": "Contents",
   "toc_cell": false,
   "toc_position": {},
   "toc_section_display": true,
   "toc_window_display": true
  }
 },
 "nbformat": 4,
 "nbformat_minor": 5
}
