{
 "cells": [
  {
   "cell_type": "markdown",
   "id": "311a7c65",
   "metadata": {},
   "source": [
    "1 .第一题"
   ]
  },
  {
   "cell_type": "code",
   "execution_count": 1,
   "id": "42e4cc6e",
   "metadata": {},
   "outputs": [],
   "source": [
    "class Ship:\n",
    "    def __init__(self, draft, crew):\n",
    "        self.draft = draft\n",
    "        self.crew = crew\n",
    "    def is_worth_it(self):\n",
    "        result=self.draft-self.crew*1.5\n",
    "        return result>20"
   ]
  },
  {
   "cell_type": "markdown",
   "id": "c2a251d5",
   "metadata": {},
   "source": [
    "2.第二题"
   ]
  },
  {
   "cell_type": "code",
   "execution_count": 2,
   "id": "831537c1",
   "metadata": {},
   "outputs": [],
   "source": [
    "class Block:  \n",
    "    def __init__(self, lists):  \n",
    "        self.width = lists[0] \n",
    "        self.length = lists[1]  \n",
    "        self.height = lists[2]\n",
    "    def get_width(self):  \n",
    "        return self.width  \n",
    "    def get_length(self):  \n",
    "        return self.length  \n",
    "    def get_height(self):  \n",
    "        return self.height\n",
    "    def get_volume(self):\n",
    "        return self.width*self.length*self.height\n",
    "    def get_surface_area(self):\n",
    "        return 2*(self.width*self.length+self.width*self.height+self.length*self.height)"
   ]
  },
  {
   "cell_type": "markdown",
   "id": "e69ef5d2",
   "metadata": {},
   "source": [
    "3 .第三题"
   ]
  },
  {
   "cell_type": "code",
   "execution_count": 3,
   "id": "65b6acdd",
   "metadata": {},
   "outputs": [],
   "source": [
    "class PaginationHelper:\n",
    "\n",
    "    def __init__(self, collection, items_per_page):\n",
    "        self.collection=collection\n",
    "        self.items_per_page=items_per_page\n",
    "\n",
    "    def item_count(self):\n",
    "        return len(self.collection)\n",
    "        \n",
    "    def page_count(self):\n",
    "        return math.ceil(self.item_count() / self.items_per_page)\n",
    "    \n",
    "    def page_item_count(self, page_index):\n",
    "        if 0 <= page_index < self.page_count():\n",
    "            if page_index == self.page_count() - 1:\n",
    "                return len(self.collection) % self.items_per_page or self.items_per_page\n",
    "            else:\n",
    "                return self.items_per_page\n",
    "        return -1\n",
    "    \n",
    "    def page_index(self, item_index):\n",
    "        if 0 <= item_index < self.item_count():\n",
    "            return item_index // self.items_per_page\n",
    "        return -1"
   ]
  },
  {
   "cell_type": "markdown",
   "id": "c2acb2c1",
   "metadata": {},
   "source": [
    "4.第四题"
   ]
  },
  {
   "cell_type": "code",
   "execution_count": 4,
   "id": "cd0ebed9",
   "metadata": {},
   "outputs": [],
   "source": [
    "from math import sqrt\n",
    "class Vector:    \n",
    "    def __init__(self, lists):    \n",
    "        self.lists=tuple(x for x in lists)   \n",
    "        self.i = 0 \n",
    "\n",
    "    def __str__(self):    \n",
    "        return str(self.lists).replace(' ', '')    \n",
    "        \n",
    "    def check(self, other):    \n",
    "        if not len(self.lists) == len(other.lists):    \n",
    "            raise ValueError('Vectors of different length')    \n",
    "        \n",
    "    def add(self, other):    \n",
    "        self.check(other)    \n",
    "        return Vector([x + y for x, y in zip(self.lists, other.lists)])    \n",
    "        \n",
    "    def subtract(self, other):    \n",
    "        self.check(other)    \n",
    "        return Vector([x - y for x, y in zip(self.lists, other.lists)])    \n",
    "        \n",
    "    def dot(self, other):    \n",
    "        self.check(other)    \n",
    "        return sum([x * y for x, y in zip(self.lists, other.lists)])    \n",
    "        \n",
    "    def norm(self):    \n",
    "        return (sum([x**2 for x in self.lists]))**0.5  \n",
    "        \n",
    "    def equals(self, other):    \n",
    "        return self.lists == other.lists    \n",
    "        \n",
    "    def __iter__(self):    \n",
    "        return self    \n",
    "        \n",
    "    def __next__(self):    \n",
    "        if self.i < len(self.lists):    \n",
    "            result = self.lists[self.i]    \n",
    "            self.i += 1    \n",
    "            return result    \n",
    "        else:    \n",
    "            raise StopIteration"
   ]
  },
  {
   "cell_type": "markdown",
   "id": "c1f528d5",
   "metadata": {},
   "source": [
    "5.第五题"
   ]
  },
  {
   "cell_type": "code",
   "execution_count": 5,
   "id": "dcd95df0",
   "metadata": {},
   "outputs": [],
   "source": [
    "class User:\n",
    "    def __init__(self):\n",
    "        self.values=[-8,-7,-6,-5,-4,-3,-2,-1,1,2,3,4,5,6,7,8]\n",
    "        self.progress=0\n",
    "        self.rank=-8\n",
    "        self.rank_index=0\n",
    "\n",
    "    def inc_progress(self,value):\n",
    "        rank_value=self.values.index(value)\n",
    "        if rank_value>self.rank_index:\n",
    "            self.progress+=10*(rank_value-self.rank_index)**2\n",
    "        elif rank_value==self.rank_index-1:\n",
    "            self.progress+=1\n",
    "        elif rank_value==self.rank_index:\n",
    "            self.progress+=3\n",
    "        \n",
    "        while self.progress>=100:\n",
    "            self.rank_index+=1\n",
    "            if self.rank_index < len(self.values):\n",
    "                self.rank = self.values[self.rank_index]\n",
    "            else:\n",
    "                self.rank = 8\n",
    "            self.progress-=100\n",
    "        \n",
    "        if self.rank==8:\n",
    "            self.progress=0\n",
    "            return"
   ]
  },
  {
   "cell_type": "code",
   "execution_count": null,
   "id": "ee764dba",
   "metadata": {},
   "outputs": [],
   "source": []
  }
 ],
 "metadata": {
  "kernelspec": {
   "display_name": "Python [conda env:root] *",
   "language": "python",
   "name": "conda-root-py"
  },
  "language_info": {
   "codemirror_mode": {
    "name": "ipython",
    "version": 3
   },
   "file_extension": ".py",
   "mimetype": "text/x-python",
   "name": "python",
   "nbconvert_exporter": "python",
   "pygments_lexer": "ipython3",
   "version": "3.9.13"
  },
  "toc": {
   "base_numbering": 1,
   "nav_menu": {},
   "number_sections": true,
   "sideBar": true,
   "skip_h1_title": false,
   "title_cell": "Table of Contents",
   "title_sidebar": "Contents",
   "toc_cell": false,
   "toc_position": {},
   "toc_section_display": true,
   "toc_window_display": true
  }
 },
 "nbformat": 4,
 "nbformat_minor": 5
}
