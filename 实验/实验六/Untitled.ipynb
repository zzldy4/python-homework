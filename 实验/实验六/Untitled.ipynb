{
 "cells": [
  {
   "cell_type": "markdown",
   "id": "311a7c65",
   "metadata": {},
   "source": [
    "1 .第一题"
   ]
  },
  {
   "cell_type": "code",
   "execution_count": 1,
   "id": "42e4cc6e",
   "metadata": {},
   "outputs": [],
   "source": [
    "def count_developers(lst):\n",
    "    # Your code here\n",
    "    count=0\n",
    "    for i in range(0,len(lst)):\n",
    "        if(lst[i]['continent']=='Europe' and lst[i]['language']=='JavaScript'):\n",
    "            count+=1\n",
    "    return count"
   ]
  },
  {
   "cell_type": "markdown",
   "id": "c2a251d5",
   "metadata": {},
   "source": [
    "2.第二题"
   ]
  },
  {
   "cell_type": "code",
   "execution_count": 2,
   "id": "831537c1",
   "metadata": {},
   "outputs": [],
   "source": [
    "num_dict = {'1': 1, '2': 2, '3': 3, '4': 4, '5': 5, '6': 6, '7': 7, '8': 8, '9': 9, '0': 0}\n",
    "\n",
    "def zero(x=None): \n",
    "    return evaluate_expression(0, x)\n",
    "\n",
    "def one(x=None): \n",
    "    return evaluate_expression(1, x)\n",
    "\n",
    "def two(x=None): \n",
    "    return evaluate_expression(2, x)\n",
    "\n",
    "def three(x=None): \n",
    "    return evaluate_expression(3, x)\n",
    "\n",
    "def four(x=None): \n",
    "    return evaluate_expression(4, x)\n",
    "\n",
    "def five(x=None): \n",
    "    return evaluate_expression(5, x)\n",
    "\n",
    "def six(x=None): \n",
    "    return evaluate_expression(6, x)\n",
    "\n",
    "def seven(x=None): \n",
    "    return evaluate_expression(7, x)\n",
    "\n",
    "def eight(x=None): \n",
    "    return evaluate_expression(8, x)\n",
    "\n",
    "def nine(x=None): \n",
    "    return evaluate_expression(9, x)\n",
    "\n",
    "def plus(x):\n",
    "    return '+,' + str(x)\n",
    "\n",
    "def minus(x):\n",
    "    return '-,' + str(x)\n",
    "\n",
    "def times(x):\n",
    "    return '*,' + str(x)\n",
    "\n",
    "def divided_by(x):\n",
    "    return '/,' + str(x)\n",
    "\n",
    "def evaluate_expression(x, y):\n",
    "    if y is None:\n",
    "        return x\n",
    "    \n",
    "    operator, num = y.split(',')\n",
    "    num = num_dict[num]\n",
    "    \n",
    "    if operator == '+':\n",
    "        return x + num\n",
    "    elif operator == '-':\n",
    "        return x - num\n",
    "    elif operator == '*':\n",
    "        return x * num\n",
    "    elif operator == '/':\n",
    "        return int(x / num)"
   ]
  },
  {
   "cell_type": "markdown",
   "id": "e69ef5d2",
   "metadata": {},
   "source": [
    "3 .第三题"
   ]
  },
  {
   "cell_type": "code",
   "execution_count": 3,
   "id": "65b6acdd",
   "metadata": {},
   "outputs": [],
   "source": [
    "def shorten_number(suffixes, base):\n",
    "    def filter(text):\n",
    "        try:\n",
    "            num = int(text)\n",
    "        except (ValueError, TypeError):\n",
    "            return str(text)\n",
    "\n",
    "        i = 0\n",
    "        while num > base:\n",
    "            if i == len(suffixes) - 1:\n",
    "                break\n",
    "            num = num / base\n",
    "            i += 1\n",
    "\n",
    "        return str(int(num)) + suffixes[i]\n",
    "\n",
    "    return filter"
   ]
  },
  {
   "cell_type": "markdown",
   "id": "c2acb2c1",
   "metadata": {},
   "source": [
    "4.第四题"
   ]
  },
  {
   "cell_type": "code",
   "execution_count": 4,
   "id": "cd0ebed9",
   "metadata": {},
   "outputs": [],
   "source": [
    "def find_senior(lst):\n",
    "    max_age = max(lst, key=lambda x: x['age'])['age']\n",
    "    return [x for x in lst if x['age'] == max_age]"
   ]
  },
  {
   "cell_type": "markdown",
   "id": "c1f528d5",
   "metadata": {},
   "source": [
    "5.第五题"
   ]
  },
  {
   "cell_type": "code",
   "execution_count": 5,
   "id": "dcd95df0",
   "metadata": {},
   "outputs": [],
   "source": [
    "def curry_partial(f,*initial_args):\n",
    "    if not callable(f): \n",
    "        return f\n",
    "    num_args = f.__code__.co_argcount\n",
    "\n",
    "\n",
    "    if num_args == 0:\n",
    "        return f(*initial_args)\n",
    "\n",
    "    if len(initial_args) >= num_args:\n",
    "        return f(*initial_args[:num_args])\n",
    "\n",
    "    def inner(*params):    \n",
    "        all_args = [*initial_args, *params]\n",
    "\n",
    "\n",
    "        if not initial_args:\n",
    "            return curry_partial(f, *all_args)\n",
    "   \n",
    "        if not callable(initial_args[0]):\n",
    "            return curry_partial(f, *all_args)\n",
    "\n",
    "\n",
    "        fn = initial_args[0]\n",
    "        num_args2 = fn.__code__.co_argcount\n",
    "\n",
    "        if num_args2 == 0:\n",
    "            return fn(*all_args)\n",
    "\n",
    "        if len(all_args) >= num_args2:\n",
    "            return fn(*all_args[:num_args2])\n",
    "        else:\n",
    "            return curry_partial(fn, *all_args)\n",
    "        \n",
    "    return inner"
   ]
  },
  {
   "cell_type": "code",
   "execution_count": null,
   "id": "dcff38e0",
   "metadata": {},
   "outputs": [],
   "source": []
  }
 ],
 "metadata": {
  "kernelspec": {
   "display_name": "Python [conda env:root] *",
   "language": "python",
   "name": "conda-root-py"
  },
  "language_info": {
   "codemirror_mode": {
    "name": "ipython",
    "version": 3
   },
   "file_extension": ".py",
   "mimetype": "text/x-python",
   "name": "python",
   "nbconvert_exporter": "python",
   "pygments_lexer": "ipython3",
   "version": "3.9.13"
  },
  "toc": {
   "base_numbering": 1,
   "nav_menu": {},
   "number_sections": true,
   "sideBar": true,
   "skip_h1_title": false,
   "title_cell": "Table of Contents",
   "title_sidebar": "Contents",
   "toc_cell": false,
   "toc_position": {},
   "toc_section_display": true,
   "toc_window_display": true
  }
 },
 "nbformat": 4,
 "nbformat_minor": 5
}
